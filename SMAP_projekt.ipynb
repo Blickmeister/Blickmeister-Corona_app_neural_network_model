{
  "nbformat": 4,
  "nbformat_minor": 0,
  "metadata": {
    "colab": {
      "name": "SMAP_projekt.ipynb",
      "provenance": [],
      "collapsed_sections": [],
      "authorship_tag": "ABX9TyOw91ku5muV/qH7qSGvIbSh",
      "include_colab_link": true
    },
    "kernelspec": {
      "name": "python3",
      "display_name": "Python 3"
    }
  },
  "cells": [
    {
      "cell_type": "markdown",
      "metadata": {
        "id": "view-in-github",
        "colab_type": "text"
      },
      "source": [
        "<a href=\"https://colab.research.google.com/github/Blickmeister/Blickmeister-Corona_app_neural_network_model/blob/main/SMAP_projekt.ipynb\" target=\"_parent\"><img src=\"https://colab.research.google.com/assets/colab-badge.svg\" alt=\"Open In Colab\"/></a>"
      ]
    },
    {
      "cell_type": "code",
      "metadata": {
        "id": "rWz71bwvCtcE"
      },
      "source": [
        "# importy\n",
        "import pandas as pd\n",
        "import matplotlib.pyplot as plt\n",
        "from pandas.plotting import register_matplotlib_converters\n",
        "register_matplotlib_converters()\n",
        "import numpy as np\n",
        "from sklearn.preprocessing import MinMaxScaler\n",
        "from tensorflow.keras.layers import Input, Dense, Dropout, LSTM\n",
        "from tensorflow.keras.models import Model\n",
        "from tensorflow.keras.models import load_model\n",
        "from tensorflow.keras.callbacks import ModelCheckpoint\n",
        "from sklearn.metrics import r2_score\n",
        "from tensorflow.keras.models import Sequential\n",
        "from keras.utils import plot_model\n",
        "from tensorflow.keras.models import load_model"
      ],
      "execution_count": 1,
      "outputs": []
    },
    {
      "cell_type": "markdown",
      "metadata": {
        "id": "-LpBi3eQ18WI"
      },
      "source": [
        "Předzpracování a analýza dat:\r\n",
        "Tato fáze spočívá v získání dat, očistění od nepotřebných údajů, vymezení období sledování, seskupení dat dle krajů a v následné analýze pro podporu dalších kroků."
      ]
    },
    {
      "cell_type": "code",
      "metadata": {
        "id": "-jVkd_8BQotZ"
      },
      "source": [
        "# získání dat ze serveru\n",
        "data = pd.read_csv(\"https://onemocneni-aktualne.mzcr.cz/api/v2/covid-19/kraj-okres-nakazeni-vyleceni-umrti.csv\")\n",
        "data.tail()"
      ],
      "execution_count": null,
      "outputs": []
    },
    {
      "cell_type": "code",
      "metadata": {
        "id": "IBiiQdYKrimK"
      },
      "source": [
        "# sledujeme data od 1.8.2020 do 20.11.2020\n",
        "data_in_period = data.loc[(data['datum'] >= '2020-08-01') & (data['datum'] <= '2020-11-20')]\n",
        "\n",
        "# počet vyléčených a mrtvých nás nezajímají\n",
        "number_of_cases_all = data_in_period.drop(columns=['kumulativni_pocet_vylecenych','kumulativni_pocet_umrti'])\n",
        "\n",
        "# sjednocení dle krajů a dnů\n",
        "number_of_cases_by_regions_and_date = number_of_cases_all.groupby(['kraj_nuts_kod','datum'], as_index=False)[['kumulativni_pocet_nakazenych']].sum()\n",
        "\n",
        "# rozdělení do krajů\n",
        "region_codes = [\"CZ010\", \"CZ031\", \"CZ064\", \"CZ041\", \"CZ052\", \"CZ051\", \"CZ080\",\n",
        "            \"CZ071\", \"CZ053\", \"CZ032\", \"CZ020\", \"CZ042\", \"CZ063\", \"CZ072\"]\n",
        "\n",
        "# funkce pro získání jména kraje na základě jeho kódu\n",
        "def get_region_name_by_code(code):\n",
        "  region_name = {\n",
        "        'CZ010': 'Hlavní město Praha',\n",
        "        'CZ031': 'Jihočeský kraj',\n",
        "        'CZ064': 'Jihomoravský kraj',\n",
        "        'CZ041': 'Karlovarský kraj',\n",
        "        'CZ052': 'Královéhradecký kraj',\n",
        "        'CZ051': 'Liberecký kraj',\n",
        "        'CZ080': 'Moravskoslezský kraj',\n",
        "        'CZ071': 'Olomoucký kraj',\n",
        "        'CZ053': 'Pardubický kraj',\n",
        "        'CZ032': 'Plzeňský kraj',\n",
        "        'CZ020': 'Středočeský kraj',\n",
        "        'CZ042': 'Ústecký kraj',\n",
        "        'CZ063': 'Vysočina',\n",
        "        'CZ072': 'Zlínský kraj'\n",
        "  }\n",
        "  return region_name.get(code, 'Invalid regionCode')\n",
        "\n",
        "# vývoj počtu nakažených v období 30.9.2020 - 30.10.2020 ve všech krajích ČR\n",
        "for code in region_codes:\n",
        "  number_of_cases_in_region = number_of_cases_by_regions_and_date.loc[number_of_cases_by_regions_and_date['kraj_nuts_kod'] == code]\n",
        "  plt.figure(figsize=(22, 6))\n",
        "  plt.plot(number_of_cases_in_region['datum'],number_of_cases_in_region['kumulativni_pocet_nakazenych'], color='g')\n",
        "  plt.tick_params(\n",
        "    axis='x',          # changes apply to the x-axis\n",
        "    which='both',      # both major and minor ticks are affected\n",
        "    bottom=False,      # ticks along the bottom edge are off\n",
        "    top=False,         # ticks along the top edge are off\n",
        "    labelbottom=False) # labels along the bottom edge are off\n",
        "  plt.title('Vývoj počtu nakažených v ' + get_region_name_by_code(code), weight='bold', fontsize=16, color='white')\n",
        "  plt.xlabel('Datum', weight='bold', fontsize=14, color='white')\n",
        "  plt.ylabel('Kumulativní počet nakažených', weight='bold', fontsize=14, color='white')\n",
        "  #plt.xticks(weight='bold', fontsize=10, rotation=45)\n",
        "  plt.yticks(weight='bold', fontsize=10, color='white')\n",
        "  plt.grid(color = 'black', linewidth = 0.5)"
      ],
      "execution_count": null,
      "outputs": []
    },
    {
      "cell_type": "markdown",
      "metadata": {
        "id": "mzlt6QJ26d5j"
      },
      "source": [
        "Příprava dat pro trénování sítě (definice target a features jakožto input proměnných do NN). <br>\n",
        "Na základě analýzy dat (velmi podobný trend ve všech krajích) je pro trénování a validaci NN vytvořen dataset, který představuje vývoj v celé ČR (součty skrze kraje). <br>\n",
        "Vstupní proměnné představují 14 (na základě studií) předešlých dnů pro aktuální den (target) a označují se jako timesteps - předešlé časové kroky jsou použity k predikci aktuálního časového kroku.\n"
      ]
    },
    {
      "cell_type": "code",
      "metadata": {
        "id": "IcpMh5s66jct"
      },
      "source": [
        "# jako skutečné hodnoty pro daný den je použit součet pozitivních ve všech krajích (celorepublikový součet)\n",
        "number_of_cases_all_regions = number_of_cases_by_regions_and_date.groupby(['datum'], as_index=False)[['kumulativni_pocet_nakazenych']].sum()\n",
        "\n",
        "# datum je vhodné mít jako datetime nikoliv object\n",
        "df_close = pd.DataFrame(number_of_cases_all_regions['kumulativni_pocet_nakazenych'])\n",
        "df_close.index = pd.to_datetime(number_of_cases_all_regions['datum'])\n",
        "print(number_of_cases_all_regions.dtypes)\n",
        "\n",
        "# funkce pro vytvoření 14ti předešlých hodnot pro aktuální skutečnou hodnotu v daný den\n",
        "def create_dataset_for_training(data, attribute, list_of_prev_instants):\n",
        "  list_of_prev_instants.sort()\n",
        "  start = list_of_prev_instants[-1] \n",
        "  end = len(data)\n",
        "  data['datum'] = data.index\n",
        "  data.reset_index(drop=True)\n",
        "\n",
        "  new_data = data[start:end]\n",
        "  new_data.reset_index(inplace=True, drop=True)\n",
        "  # pro případ více atributů \n",
        "  for attribute in attribute :\n",
        "          foobar = pd.DataFrame()\n",
        "\n",
        "          for prev_instant in list_of_prev_instants :\n",
        "              new_col = pd.DataFrame(data[attribute].iloc[(start - prev_instant) : (end - prev_instant)])\n",
        "              new_col.reset_index(drop=True, inplace=True)\n",
        "              new_col.rename(columns={attribute : '{}_(t-{})'.format(attribute, prev_instant)}, inplace=True)\n",
        "              foobar = pd.concat([foobar, new_col], sort=False, axis=1)\n",
        "\n",
        "          new_data = pd.concat([new_data, foobar], sort=False, axis=1)\n",
        "     \n",
        "  new_data.set_index(['datum'], drop=True, inplace=True)\n",
        "  return new_data\n",
        "\n",
        "# vytvoření datasetu pro trénink NN\n",
        "attribute_name_for_training = ['kumulativni_pocet_nakazenych']\n",
        "list_of_prev_cases_instants = []\n",
        "for i in range(1,15):\n",
        "    list_of_prev_cases_instants.append(i)\n",
        "dataset_for_training = create_dataset_for_training(df_close, attribute_name_for_training, list_of_prev_cases_instants)\n",
        "#dataset_for_training.head().to_csv(r'dataset_for_training.csv', index = False)"
      ],
      "execution_count": null,
      "outputs": []
    },
    {
      "cell_type": "markdown",
      "metadata": {
        "id": "R78ErEDtQubE"
      },
      "source": [
        "Rozdělení dat na trénovací, testovací a validační množinu. <br>\n",
        "Testovací množina je tvořena novějšími daty - důvodem je predikce ve více regionech, mohlo by dojít k vytvoření nepřesného modelu, jenž není schopný reagovat na variabilitu v jednotlivých regionech (viz řešerše). Množina je tvořena 20% z celkového datasetu. <br>\n",
        "Ze zbytku dat tvoří 90% trénovací data a zbylých 10% validační data. <br>\n",
        "Jsou definovány testovací množiny pro predikování v jednotlivých krajích.\n",
        "\n"
      ]
    },
    {
      "cell_type": "code",
      "metadata": {
        "id": "rDK3vDE2RllL",
        "colab": {
          "base_uri": "https://localhost:8080/"
        },
        "outputId": "dc098a3b-2200-488a-a299-d16094a6b4d2"
      },
      "source": [
        "# velikosti množin\n",
        "test_set_size = 0.20\n",
        "valid_set_size = 0.10\n",
        "\n",
        "# testujeme na aktuálnějších datech\n",
        "dataset_for_training_copy = dataset_for_training.reset_index(drop=True)\n",
        "dataset_test = dataset_for_training_copy.iloc[ int(np.floor(len(dataset_for_training_copy)*(1-test_set_size))) : ]\n",
        "print(dataset_test.shape)\n",
        "\n",
        "# starší zbylá data se rozdělí na trénovací a validační množinu\n",
        "dataset_train_plus_valid = dataset_for_training_copy.iloc[ : int(np.floor(len(dataset_for_training_copy)*(1-test_set_size))) ]\n",
        "dataset_train = dataset_train_plus_valid.iloc[ : int(np.floor(len(dataset_train_plus_valid)*(1-valid_set_size))) ]\n",
        "dataset_valid = dataset_train_plus_valid.iloc[ int(np.floor(len(dataset_train_plus_valid)*(1-valid_set_size))) : ]\n",
        "\n",
        "# rozdělení dle sloupců pro vstup do NN (target a timesteps jako vstupy do NN)\n",
        "X_train, y_train = dataset_train.iloc[:, 1:], dataset_train.iloc[:, 0]\n",
        "X_valid, y_valid = dataset_valid.iloc[:, 1:], dataset_valid.iloc[:, 0]\n",
        "X_test, y_test = dataset_test.iloc[:, 1:], dataset_test.iloc[:, 0]\n",
        "\n",
        "print('Shape of training inputs, training target:', X_train.shape, y_train.shape)\n",
        "print('Shape of validation inputs, validation target:', X_valid.shape, y_valid.shape)\n",
        "print('Shape of test inputs, test target:', X_test.shape, y_test.shape)\n",
        "\n",
        "# funkce pro vytvoření testovací množiny pro predikci pro daný kraj\n",
        "def create_test_set_for_prediction_by_region(code):\n",
        "  # data pro daný kraj\n",
        "  number_of_cases_in_region = number_of_cases_by_regions_and_date.loc[number_of_cases_by_regions_and_date['kraj_nuts_kod'] == code]\n",
        "\n",
        "  # nechceme kopii\n",
        "  new_df = number_of_cases_in_region.loc[:, number_of_cases_in_region.columns]\n",
        "\n",
        "  # výpočet 14ti předešlých hodnot pro predikci\n",
        "  dataset_region = create_dataset_for_training(new_df, attribute_name_for_training, list_of_prev_cases_instants)\n",
        "  \n",
        "  # definice testovacích dat - 10% dat\n",
        "  test_set_region_size = 0.2\n",
        "  dataset_region_test = dataset_region.iloc[ int(np.floor(len(dataset_region)*(1-test_set_region_size))) : ]\n",
        "  return dataset_region_test"
      ],
      "execution_count": 29,
      "outputs": [
        {
          "output_type": "stream",
          "text": [
            "(20, 15)\n",
            "Shape of training inputs, training target: (70, 14) (70,)\n",
            "Shape of validation inputs, validation target: (8, 14) (8,)\n",
            "Shape of test inputs, test target: (20, 14) (20,)\n"
          ],
          "name": "stdout"
        }
      ]
    },
    {
      "cell_type": "markdown",
      "metadata": {
        "id": "sTiopoDRfIyF"
      },
      "source": [
        "Škálování vstupních dat do NN v rozsahu 0.01 až 0.99 a úprava vstupních dat pro LSTM síť."
      ]
    },
    {
      "cell_type": "code",
      "metadata": {
        "id": "LZbi4AkRfRoc"
      },
      "source": [
        "# definice rozsahu škálování\n",
        "Target_scaler = MinMaxScaler(feature_range=(0.01, 0.99))\n",
        "Feature_scaler = MinMaxScaler(feature_range=(0.01, 0.99))\n",
        "\n",
        "# aplikace škálování\n",
        "X_train_scaled = Feature_scaler.fit_transform(np.array(X_train))\n",
        "X_valid_scaled = Feature_scaler.fit_transform(np.array(X_valid))\n",
        "X_test_scaled = Feature_scaler.fit_transform(np.array(X_test))\n",
        "y_train_scaled = Target_scaler.fit_transform(np.array(y_train).reshape(-1,1))\n",
        "y_valid_scaled = Target_scaler.fit_transform(np.array(y_valid).reshape(-1,1))\n",
        "y_test_scaled = Target_scaler.fit_transform(np.array(y_test).reshape(-1,1))\n",
        "print(X_test_scaled)\n",
        "print(y_test_scaled)\n",
        "# vstupní data pro LSTM síť (samples_number, timesteps_number, number_of_values_in_each_timestep)\n",
        "# přidáme pouze jednu dimenzi (1 - máme 1 hodnotu v každé vstupní proměnné)\n",
        "X_train_scaled_LSTM = np.expand_dims(X_train_scaled, 1)\n",
        "X_valid_scaled_LSTM = np.expand_dims(X_valid_scaled, 1)\n",
        "X_test_scaled_LSTM = np.expand_dims(X_test_scaled, 1)"
      ],
      "execution_count": null,
      "outputs": []
    },
    {
      "cell_type": "markdown",
      "metadata": {
        "id": "N9AXdmmoeqFW"
      },
      "source": [
        "Modely neuronových sítí:\n",
        "\n",
        "1.   model je tradiční dopředná neuronová síť s 5 vrstvami:\n",
        "    *   vstupní vrstva\n",
        "    *   vrstva s 60 neurony a lineární aktivační funkcí\n",
        "    *   vrstva s 60 neurony a lineární aktivační funkcí\n",
        "    *   dropout vrstva s 25% ignorování neuronů - proti přeučení\n",
        "    *   výstupní vrstva s lineární aktivační funkcí\n",
        "  *   Optimalizační funkce: Adam a ztrátová funkce: Střední kvadratická chyba (MSE)\n",
        "2.   model je LSTM síť s 5 vrstvami:\n",
        "    *   vstupní vrstva s s délkou výstupu 14 (pamatuje si 14 hodnot)\n",
        "    *   LSTM vrstva s délkou výstupu 14 (pamatuje si 14 hodnot) a lineární aktivační funkcí\n",
        "    *   LSTM vrstva s 60 s délkou výstupu 14 (pamatuje si 14 hodnot) a lineární aktivační funkcí\n",
        "    *   dropout vrstva s 25% ignorování neuronů - proti přeučení\n",
        "    *   výstupní vrstva s lineární aktivační funkcí\n",
        "  *   Optimalizační funkce: Adam a ztrátová funkce: Střední kvadratická chyba \n",
        "\n"
      ]
    },
    {
      "cell_type": "code",
      "metadata": {
        "id": "3fiuyuJfe8bz"
      },
      "source": [
        "# dopředná NN\n",
        "#FNN_input_layer = Input(shape=(14), dtype='float32')\n",
        "#FNN_dense1 = Dense(60, activation='linear')(FNN_input_layer)\n",
        "#FNN_dense2 = Dense(60, activation='linear')(FNN_dense1)\n",
        "#FNN_dropout_layer = Dropout(0.25)(FNN_dense2)\n",
        "#FNN_output_layer = Dense(1, activation='linear')(FNN_dropout_layer)\n",
        "\n",
        "#FNN_model = Model(inputs=FNN_input_layer, outputs=FNN_output_layer, name='dopredna_NN')\n",
        "FNN_model = Sequential(name='dopredna_NN')\n",
        "\n",
        "FNN_model.add(Input(shape=(14), dtype='float32', name='vstupni_vrstva'))\n",
        "\n",
        "FNN_model.add(Dense(20, activation='linear', name='vrstva_1'))\n",
        "\n",
        "FNN_model.add(Dropout(0.20, name='dropout_vrstva'))\n",
        "\n",
        "FNN_model.add(Dense(1, activation='linear', name='vystupni_vrstva'))\n",
        "\n",
        "FNN_model.compile(loss='mean_squared_error', optimizer='adam')\n",
        "\n",
        "FNN_model.summary()\n",
        "\n",
        "# LSTM síť\n",
        "LSTM_model = Sequential(name='LSTM_NN')\n",
        "\n",
        "LSTM_model.add(LSTM(units=20, return_sequences=True, input_shape=(X_train_scaled_LSTM.shape[1:]), name='LSTM_vrstva'))\n",
        "\n",
        "LSTM_model.add(Dropout(0.20, name='dropout_vrstva'))\n",
        "\n",
        "LSTM_model.add(Dense(units=1, activation='linear', name='vystupni_vrstva'))\n",
        "\n",
        "LSTM_model.compile(optimizer='adam', loss='mean_squared_error')\n",
        "LSTM_model.summary()\n",
        "plot_model(LSTM_model)"
      ],
      "execution_count": null,
      "outputs": []
    },
    {
      "cell_type": "markdown",
      "metadata": {
        "id": "8wGv6JvzrRcs"
      },
      "source": [
        "Trénování sítí a jejich validace"
      ]
    },
    {
      "cell_type": "code",
      "metadata": {
        "id": "RPDrcyz3rYME"
      },
      "source": [
        "history_FNN_model = FNN_model.fit(x=X_train_scaled, y=y_train_scaled, batch_size=5, epochs=50, verbose=1, validation_data=(X_valid_scaled, y_valid_scaled), shuffle=True)\n",
        "history_LSTM_model = LSTM_model.fit(X_train_scaled_LSTM, y_train_scaled, epochs=50, batch_size=5, verbose=1, validation_data=(X_valid_scaled_LSTM, y_valid_scaled), shuffle=True)"
      ],
      "execution_count": null,
      "outputs": []
    },
    {
      "cell_type": "markdown",
      "metadata": {
        "id": "G_TWNbFeJfbP"
      },
      "source": [
        "Průběh trénování obou modelů."
      ]
    },
    {
      "cell_type": "code",
      "metadata": {
        "id": "B28-H5eIJs-p"
      },
      "source": [
        "# zobrazení průběhu FNN modelu\n",
        "plt.figure(figsize=(20, 10))\n",
        "plt.title('Průběh trénování FNN modelu', weight='bold', fontsize=16, color='white')\n",
        "plt.xlabel('Počet epoch', weight='bold', fontsize=14, color='white')\n",
        "plt.ylabel('Chyba', weight='bold', fontsize=14, color='white')\n",
        "plt.xticks(weight='bold', fontsize=10, color='white')\n",
        "plt.yticks(weight='bold', fontsize=10, color='white')\n",
        "plt.plot(history_FNN_model.history['loss'], label = 'loss')\n",
        "plt.plot(history_FNN_model.history['val_loss'], label = 'val_loss')\n",
        "plt.legend()\n",
        "plt.show\n",
        "\n",
        "# zobrazení průběhu LSTM modelu\n",
        "plt.figure(figsize=(20, 10))\n",
        "plt.title('Průběh trénování LSTM modelu', weight='bold', fontsize=16, color='white')\n",
        "plt.xlabel('Počet epoch', weight='bold', fontsize=14, color='white')\n",
        "plt.ylabel('Chyba', weight='bold', fontsize=14, color='white')\n",
        "plt.xticks(weight='bold', fontsize=10, color='white')\n",
        "plt.yticks(weight='bold', fontsize=10, color='white')\n",
        "plt.plot(history_LSTM_model.history['loss'], label = 'loss')\n",
        "plt.plot(history_LSTM_model.history['val_loss'], label = 'val_loss')\n",
        "plt.legend()\n",
        "plt.show"
      ],
      "execution_count": null,
      "outputs": []
    },
    {
      "cell_type": "markdown",
      "metadata": {
        "id": "3wWU1Lq792rz"
      },
      "source": [
        "Uložení modelu pro použití ve springu na BE"
      ]
    },
    {
      "cell_type": "code",
      "metadata": {
        "id": "KlVKiiYS96E0"
      },
      "source": [
        "FNN_model.save('FNN_model.h5')\n",
        "LSTM_model.save('LSTM_model.h5')"
      ],
      "execution_count": 53,
      "outputs": []
    },
    {
      "cell_type": "markdown",
      "metadata": {
        "id": "tWbe3oa-twaL"
      },
      "source": [
        "Predikování na testovací množině pro celou ČR a jednotlivé kraje."
      ]
    },
    {
      "cell_type": "code",
      "metadata": {
        "id": "-feyiBQfuCBn"
      },
      "source": [
        "# výpočet predikce na testovací množině pro celou ČR\n",
        "!pwd \n",
        "y_pred_FNN = load_model('FNN_model.h5').predict(X_test_scaled)\n",
        "y_pred_LSTM = load_model('LSTM_model.h5').predict(X_test_scaled_LSTM)\n",
        "# úprava LSTM outputu (přebytečná dimenze pryč)\n",
        "y_pred_LSTM_reshaped = np.squeeze(y_pred_LSTM, axis=1)\n",
        "print(y_pred_LSTM_reshaped.shape)\n",
        "# zpětné škálování z rozsahu 0.01-0.99 na původní hodnoty\n",
        "y_pred_rescaled_FNN = Target_scaler.inverse_transform(y_pred_FNN)\n",
        "y_pred_rescaled_LSTM = Target_scaler.inverse_transform(y_pred_LSTM_reshaped)\n",
        "print(y_pred_rescaled_LSTM)\n",
        "\n",
        "# funkce pro predikci v daném kraji (vracíme hodnotu v původním rozsahu)\n",
        "def predict_in_region(code):\n",
        "  dataset_region_test = create_test_set_for_prediction_by_region(code)\n",
        "\n",
        "  # rozdělení na X a y\n",
        "  X_test_region = dataset_region_test.iloc[:, 2:]\n",
        "  y_test_region = dataset_region_test.iloc[:, 1]\n",
        "  y_test_region_scaled = Target_scaler.fit_transform(np.array(y_test_region).reshape(-1,1))\n",
        "  y_test_region_rescaled =  Target_scaler.inverse_transform(y_test_region_scaled)\n",
        "\n",
        "  # škálování na rozsah 0.01 - 0.99\n",
        "  X_test_region_scaled = Feature_scaler.fit_transform(np.array(X_test_region))\n",
        "  X_test_region_scaled_LSTM = np.expand_dims( X_test_region_scaled, 1)\n",
        "\n",
        "  # predikce FNN síťí\n",
        "  y_pred_region_FNN = FNN_model.predict(X_test_region_scaled)\n",
        "  y_pred_region_rescaled_FNN = Target_scaler.inverse_transform(y_pred_region_FNN)\n",
        "\n",
        "  # predikce LSTM síťí\n",
        "  y_pred_region_LSTM = LSTM_model.predict(X_test_region_scaled_LSTM)\n",
        "  y_pred_region_LSTM_reshaped = np.squeeze(y_pred_region_LSTM, axis=1)\n",
        "  y_pred_region_rescaled_LSTM = Target_scaler.inverse_transform(y_pred_region_LSTM_reshaped)\n",
        "\n",
        "  return [y_pred_region_rescaled_FNN, y_pred_region_rescaled_LSTM, y_test_region_rescaled]"
      ],
      "execution_count": null,
      "outputs": []
    },
    {
      "cell_type": "markdown",
      "metadata": {
        "id": "4KmvBkKSvCOn"
      },
      "source": [
        "Posouzení kvality **FNN modelu** porovnáním predikovaných a aktuálních hodnot. <br>\n",
        "Pro posouzení vybrán koeficient determinace R^2 - rozsah 0 (neužitečný model) - 1 (dokonalá predikce). <br>\n",
        "Testováno nejprve pro celorepubliková data a následně pro všechny kraje.\n"
      ]
    },
    {
      "cell_type": "code",
      "metadata": {
        "id": "_7ekXxVIX3pB"
      },
      "source": [
        "# zpětné škálování z rozsahu 0.01-0.99 na původní hodnoty\n",
        "y_test_rescaled =  Target_scaler.inverse_transform(y_test_scaled)\n",
        "\n",
        "# výpočet a vypsání R^2 pro celou ČR\n",
        "score_CR = r2_score(y_test_rescaled, y_pred_rescaled_FNN)\n",
        "print('Koeficient determinance pro testovací množinu - celá ČR:', round(score_CR,4))\n",
        "\n",
        "# výpočet a vypsání R^2 pro všechny kraje\n",
        "for code in region_codes:\n",
        "  pred_region = predict_in_region(code)\n",
        "  score_region = r2_score(pred_region[2], pred_region[0])\n",
        "  print('Koeficient determinance pro testovací množinu - ' + get_region_name_by_code(code) + ':', round(score_region,4))"
      ],
      "execution_count": null,
      "outputs": []
    },
    {
      "cell_type": "markdown",
      "metadata": {
        "id": "kFwd1aY4zyJP"
      },
      "source": [
        "Grafické znázornění porovnání skutečných a predikovaných hodnot testovací množiny celorepublikově a v rámci všech krajů pro **FNN model**."
      ]
    },
    {
      "cell_type": "code",
      "metadata": {
        "id": "HnJchyVn0G3F"
      },
      "source": [
        "# grafické porovnání v rámci ČR\n",
        "plt.figure(figsize=(11, 6))\n",
        "plt.plot(pd.DataFrame(y_test_rescaled), linestyle='solid', color='r')\n",
        "plt.plot(pd.DataFrame(y_pred_rescaled_FNN), linestyle='dashed', color='b')\n",
        "\n",
        "plt.legend(['Actual','Predicted'], loc='best', prop={'size': 14})\n",
        "plt.title('Porovnání predikce a skutečných hodnot v celé ČR', weight='bold', fontsize=16, color='white')\n",
        "plt.ylabel('Kumultaivní počet nakažených', weight='bold', fontsize=14, color='white')\n",
        "plt.xlabel('Pořadí dnů testovací množiny', weight='bold', fontsize=14, color='white')\n",
        "plt.xticks(weight='bold', fontsize=12, rotation=45, color='white')\n",
        "plt.yticks(weight='bold', fontsize=12, color='white')\n",
        "plt.grid(color = 'y', linewidth='0.5')\n",
        "plt.show()\n",
        "\n",
        "# grafické porovnání v rámci všech krajů\n",
        "for code in region_codes:\n",
        "  pred_region = predict_in_region(code)\n",
        "  plt.figure(figsize=(11, 6))\n",
        "  plt.plot(pd.DataFrame(pred_region[0]), linestyle='solid', color='r')\n",
        "  plt.plot(pd.DataFrame(pred_region[2]), linestyle='dashed', color='b')\n",
        "\n",
        "  plt.legend(['Actual','Predicted'], loc='best', prop={'size': 14})\n",
        "  plt.title('Porovnání predikce a skutečných hodnot v ' + get_region_name_by_code(code), weight='bold', fontsize=16, color='white')\n",
        "  plt.ylabel('Kumultaivní počet nakažených', weight='bold', fontsize=14, color='white')\n",
        "  plt.xlabel('Pořadí dnů testovací množiny', weight='bold', fontsize=14, color='white')\n",
        "  plt.xticks(weight='bold', fontsize=12, rotation=45, color='white')\n",
        "  plt.yticks(weight='bold', fontsize=12, color='white')\n",
        "  plt.grid(color = 'y', linewidth='0.5')\n",
        "  plt.show()\n"
      ],
      "execution_count": null,
      "outputs": []
    },
    {
      "cell_type": "markdown",
      "metadata": {
        "id": "HH_w087E0Ep2"
      },
      "source": [
        "Posouzení kvality **LSTM modelu** porovnáním predikovaných a aktuálních hodnot. Stejná metodika jako u FNN modelu."
      ]
    },
    {
      "cell_type": "code",
      "metadata": {
        "id": "YKRG-So30FCx"
      },
      "source": [
        "# výpočet a vypsání R^2 pro celou ČR\n",
        "score_CR = r2_score(y_test_rescaled, y_pred_rescaled_LSTM)\n",
        "print('Koeficient determinance pro testovací množinu - celá ČR:', round(score_CR,4))\n",
        "\n",
        "# výpočet a vypsání R^2 pro všechny kraje\n",
        "for code in region_codes:\n",
        "  pred_region = predict_in_region(code)\n",
        "  score_region = r2_score(pred_region[2], pred_region[1])\n",
        "  print('Koeficient determinance pro testovací množinu - ' + get_region_name_by_code(code) + ':', round(score_region,4))"
      ],
      "execution_count": null,
      "outputs": []
    },
    {
      "cell_type": "markdown",
      "metadata": {
        "id": "XtQIavI80Fd6"
      },
      "source": [
        "Grafické znázornění porovnání skutečných a predikovaných hodnot testovací množiny celorepublikově a v rámci všech krajů pro **LSTM model**."
      ]
    },
    {
      "cell_type": "code",
      "metadata": {
        "id": "PT_ZGEi_0Fz1"
      },
      "source": [
        "# grafické porovnání v rámci ČR\n",
        "plt.figure(figsize=(11, 6))\n",
        "plt.plot(pd.DataFrame(y_test_rescaled), linestyle='solid', color='r')\n",
        "plt.plot(pd.DataFrame(y_pred_rescaled_LSTM), linestyle='dashed', color='b')\n",
        "\n",
        "plt.legend(['Actual','Predicted'], loc='best', prop={'size': 14})\n",
        "plt.title('Porovnání predikce a skutečných hodnot v celé ČR', weight='bold', fontsize=16, color='white')\n",
        "plt.ylabel('Kumultaivní počet nakažených', weight='bold', fontsize=14, color='white')\n",
        "plt.xlabel('Pořadí dnů testovací množiny', weight='bold', fontsize=14, color='white')\n",
        "plt.xticks(weight='bold', fontsize=12, rotation=45, color='white')\n",
        "plt.yticks(weight='bold', fontsize=12, color='white')\n",
        "plt.grid(color = 'y', linewidth='0.5')\n",
        "plt.show()\n",
        "\n",
        "# grafické porovnání v rámci všech krajů\n",
        "for code in region_codes:\n",
        "  pred_region = predict_in_region(code)\n",
        "  plt.figure(figsize=(11, 6))\n",
        "  plt.plot(pd.DataFrame(pred_region[1]), linestyle='solid', color='r')\n",
        "  plt.plot(pd.DataFrame(pred_region[2]), linestyle='dashed', color='b')\n",
        "\n",
        "  plt.legend(['Actual','Predicted'], loc='best', prop={'size': 14})\n",
        "  plt.title('Porovnání predikce a skutečných hodnot v ' + get_region_name_by_code(code), weight='bold', fontsize=16, color='white')\n",
        "  plt.ylabel('Kumultaivní počet nakažených', weight='bold', fontsize=14, color='white')\n",
        "  plt.xlabel('Pořadí dnů testovací množiny', weight='bold', fontsize=14, color='white')\n",
        "  plt.xticks(weight='bold', fontsize=12, rotation=45, color='white')\n",
        "  plt.yticks(weight='bold', fontsize=12, color='white')\n",
        "  plt.grid(color = 'y', linewidth='0.5')\n",
        "  plt.show()"
      ],
      "execution_count": null,
      "outputs": []
    }
  ]
}